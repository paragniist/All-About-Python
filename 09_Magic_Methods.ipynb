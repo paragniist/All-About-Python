{
 "cells": [
  {
   "cell_type": "markdown",
   "metadata": {},
   "source": [
    "<h2>Magic Methods/Dunder Methods</h2>\n",
    "<p>Double underscore methods are special methods that start and end with double underscores. These methods enable you tu define the behaviour of objects for built-in operations, such as arithmetic operations, comparisons, and more."
   ]
  },
  {
   "cell_type": "markdown",
   "metadata": {},
   "source": [
    "<h3>Magic methods</h3>\n",
    "Magic methods are predefined methods in python that you can override to change the behaviour of your objects. SOme common magic methdos include:\n",
    "<li>__init: Initilizes a new instance of a class. </li>\n",
    "<li>__str: Returns a string representation of an object.</li>\n",
    "<li>__repr: Returns an official string representation of an object.</li>\n",
    "<li>__len: Returns the length of an object.</li>\n",
    "<li>__getitem: Gets an item form a container.</li>\n",
    "<li>__setitem: Sets an item in a container.</li>"
   ]
  },
  {
   "cell_type": "code",
   "execution_count": 1,
   "metadata": {},
   "outputs": [
    {
     "name": "stdout",
     "output_type": "stream",
     "text": [
      "<__main__.Person object at 0x106918aa0>\n"
     ]
    }
   ],
   "source": [
    "class Person:\n",
    "    pass\n",
    "\n",
    "person=Person()\n",
    "print(person)"
   ]
  },
  {
   "cell_type": "code",
   "execution_count": 10,
   "metadata": {},
   "outputs": [
    {
     "name": "stdout",
     "output_type": "stream",
     "text": [
      "Ash,21 years old\n",
      "Person(name=Ash,age=21)\n"
     ]
    }
   ],
   "source": [
    "## Basic magic methods:\n",
    "class Person:\n",
    "    def __init__(self,name,age):\n",
    "        self.name=name\n",
    "        self.age=age\n",
    "\n",
    "    def __str__(self):\n",
    "        return f\"{self.name},{self.age} years old\" \n",
    "    \n",
    "    def __repr__(self):\n",
    "        return f\"Person(name={self.name},age={self.age})\"\n",
    "\n",
    "person=Person(\"Ash\",21)\n",
    "print(person)\n",
    "print(repr(person))"
   ]
  },
  {
   "cell_type": "code",
   "execution_count": null,
   "metadata": {},
   "outputs": [],
   "source": []
  }
 ],
 "metadata": {
  "kernelspec": {
   "display_name": "base",
   "language": "python",
   "name": "python3"
  },
  "language_info": {
   "codemirror_mode": {
    "name": "ipython",
    "version": 3
   },
   "file_extension": ".py",
   "mimetype": "text/x-python",
   "name": "python",
   "nbconvert_exporter": "python",
   "pygments_lexer": "ipython3",
   "version": "3.12.4"
  }
 },
 "nbformat": 4,
 "nbformat_minor": 2
}
