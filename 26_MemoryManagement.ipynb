{
 "cells": [
  {
   "cell_type": "markdown",
   "metadata": {},
   "source": [
    "<h3>Python Memory Management</h3>\n",
    "\n",
    "Memory management in python invloves a combination of automatic garbage collection, refrencing counting, and various internal optimizations to efficiently manage memory allocation and deadallocation. Understanding these mechanisms can help developers write more efficient and robust applications.\n",
    "\n",
    "1. Key concepts in python memory management.\n",
    "2. Memory Allocation and Deallocation.\n",
    "3. Reference Counting\n",
    "4. Garbage Collection\n",
    "5. The gc Module\n",
    "6. Memory Management Best pratices"
   ]
  },
  {
   "cell_type": "markdown",
   "metadata": {},
   "source": [
    "<h3>Refernce Counting</h3>\n",
    "\n",
    "Refrence counting is the primary method python uses to manage memory. Each object in python maintains a count of reference pointing to it. When the reference count drops to zero, The memory occupied by the object is deallocated."
   ]
  },
  {
   "cell_type": "code",
   "execution_count": 1,
   "metadata": {},
   "outputs": [
    {
     "name": "stdout",
     "output_type": "stream",
     "text": [
      "2\n"
     ]
    }
   ],
   "source": [
    "import sys\n",
    "\n",
    "a=[]\n",
    "# one referecnce from 'a' and one from getrefcount()\n",
    "print(sys.getrefcount(a))"
   ]
  },
  {
   "cell_type": "code",
   "execution_count": 2,
   "metadata": {},
   "outputs": [
    {
     "name": "stdout",
     "output_type": "stream",
     "text": [
      "3\n"
     ]
    }
   ],
   "source": [
    "b=a\n",
    "print(sys.getrefcount(b))"
   ]
  },
  {
   "cell_type": "markdown",
   "metadata": {},
   "source": [
    "### Garbage Collection\n",
    "\n",
    "Python includes a cyclic garbage collector to handle reference cycles. Reference cycles occur when objects reference each other, preventing their reference counts from reaching zero."
   ]
  },
  {
   "cell_type": "code",
   "execution_count": 4,
   "metadata": {},
   "outputs": [],
   "source": [
    "import gc\n",
    "## enable garbage collection\n",
    "gc.enable()"
   ]
  },
  {
   "cell_type": "code",
   "execution_count": 5,
   "metadata": {},
   "outputs": [],
   "source": [
    "gc.disable()"
   ]
  },
  {
   "cell_type": "code",
   "execution_count": 6,
   "metadata": {},
   "outputs": [
    {
     "data": {
      "text/plain": [
       "178"
      ]
     },
     "execution_count": 6,
     "metadata": {},
     "output_type": "execute_result"
    }
   ],
   "source": [
    "gc.collect()"
   ]
  },
  {
   "cell_type": "code",
   "execution_count": 7,
   "metadata": {},
   "outputs": [
    {
     "name": "stdout",
     "output_type": "stream",
     "text": [
      "[{'collections': 181, 'collected': 1263, 'uncollectable': 0}, {'collections': 16, 'collected': 137, 'uncollectable': 0}, {'collections': 2, 'collected': 252, 'uncollectable': 0}]\n"
     ]
    }
   ],
   "source": [
    "## GET GARBAGE COLLECTION STATS:\n",
    "print(gc.get_stats())"
   ]
  },
  {
   "cell_type": "code",
   "execution_count": 8,
   "metadata": {},
   "outputs": [
    {
     "name": "stdout",
     "output_type": "stream",
     "text": [
      "[]\n"
     ]
    }
   ],
   "source": [
    "## Get unreachable objects\n",
    "print(gc.garbage)"
   ]
  },
  {
   "cell_type": "markdown",
   "metadata": {},
   "source": [
    "### memory Management Best Practises:\n",
    "\n",
    "1. Use local variables:\n",
    "Local variables have a shorter lifespan and are freed sooner than global variables.\n",
    "\n",
    "2. Avoid Circular reference:\n",
    "Circcular refernces can lead to memory leaks if not properly managed.\n",
    "\n",
    "3. Use generators: \n",
    "Generators produce items one at a time and only keep one item in memory at a time, maling them memory efficient.\n",
    "\n",
    "4. Explicitly delete Objects: \n",
    "Use the del statement to delete varaibles and objects explicitly.\n",
    "\n",
    "5. Profile Memory Usage: \n",
    "Use memory profiling tools like tracemalloc and memory_profiler to identify memory leaks and optimize memory usage."
   ]
  },
  {
   "cell_type": "code",
   "execution_count": 39,
   "metadata": {},
   "outputs": [
    {
     "name": "stdout",
     "output_type": "stream",
     "text": [
      "Object obj1 created\n",
      "Object obj2 created\n",
      "object obj1 deleted\n",
      "object obj2 deleted\n"
     ]
    },
    {
     "data": {
      "text/plain": [
       "9"
      ]
     },
     "execution_count": 39,
     "metadata": {},
     "output_type": "execute_result"
    }
   ],
   "source": [
    "import gc\n",
    "\n",
    "class MyObject:\n",
    "    def __init__(self,name):\n",
    "        self.name=name\n",
    "        print(f\"Object {self.name} created\")\n",
    "\n",
    "    def __del__(self):\n",
    "        print(f\"object {self.name} deleted\")\n",
    "\n",
    "## Handeling Circular reference:\n",
    "\n",
    "obj1 = MyObject(\"obj1\")\n",
    "obj2 = MyObject(\"obj2\")\n",
    "\n",
    "obj1.ref = obj2\n",
    "obj2.ref = obj1\n",
    "\n",
    "del obj1\n",
    "del obj2\n",
    "\n",
    "##manually trigger garbage collection:\n",
    "gc.collect()"
   ]
  },
  {
   "cell_type": "code",
   "execution_count": 48,
   "metadata": {},
   "outputs": [
    {
     "name": "stdout",
     "output_type": "stream",
     "text": [
      "0\n",
      "1\n",
      "2\n",
      "3\n",
      "4\n",
      "5\n",
      "6\n",
      "7\n",
      "8\n",
      "9\n",
      "10\n",
      "11\n"
     ]
    }
   ],
   "source": [
    "## Generators for memory eficiency.\n",
    "## Generators are functions that return an iterator and yield values one at a time, instead of returning them all at once like a list.\n",
    "\n",
    "def generate_numbers(n):\n",
    "    for i in range(n):\n",
    "        yield i\n",
    "\n",
    "## using the generator:\n",
    "\n",
    "for num in generate_numbers(1000000):\n",
    "    print(num)\n",
    "    if num>10:\n",
    "        break\n"
   ]
  },
  {
   "cell_type": "code",
   "execution_count": 51,
   "metadata": {},
   "outputs": [],
   "source": [
    "import tracemalloc\n",
    "\n",
    "def create_list():\n",
    "    return [i for i in range(1000000)]\n",
    "\n",
    "def main():\n",
    "    tracemalloc.start()         # Start tracing Python memory allocations\n",
    "\n",
    "    create_list()               # Create a big list (uses lots of memory)\n",
    "\n",
    "    snapshot = tracemalloc.take_snapshot()  # Take a snapshot of current memory usage\n",
    "    topstats = snapshot.statistics('lineno')# Get stats grouped by line number\n",
    "\n",
    "    print(\"[ Top 10 ]\")\n",
    "    for stat in topstats[:10]:              # Print top 10 memory-consuming lines\n",
    "        print(stat)\n"
   ]
  },
  {
   "cell_type": "code",
   "execution_count": 52,
   "metadata": {},
   "outputs": [
    {
     "name": "stdout",
     "output_type": "stream",
     "text": [
      "[ Top 10 ]\n",
      "/opt/anaconda3/lib/python3.12/site-packages/IPython/core/builtin_trap.py:70: size=6512 B, count=1, average=6512 B\n",
      "/opt/anaconda3/lib/python3.12/site-packages/IPython/core/interactiveshell.py:1592: size=3264 B, count=1, average=3264 B\n",
      "/opt/anaconda3/lib/python3.12/json/decoder.py:353: size=2086 B, count=23, average=91 B\n",
      "/opt/anaconda3/lib/python3.12/codeop.py:126: size=1783 B, count=20, average=89 B\n",
      "/opt/anaconda3/lib/python3.12/site-packages/zmq/sugar/attrsettr.py:44: size=1598 B, count=34, average=47 B\n",
      "/opt/anaconda3/lib/python3.12/site-packages/traitlets/traitlets.py:731: size=1352 B, count=21, average=64 B\n",
      "/opt/anaconda3/lib/python3.12/site-packages/traitlets/traitlets.py:1514: size=1200 B, count=10, average=120 B\n",
      "/opt/anaconda3/lib/python3.12/site-packages/IPython/core/compilerop.py:174: size=1187 B, count=14, average=85 B\n",
      "/opt/anaconda3/lib/python3.12/site-packages/traitlets/traitlets.py:1543: size=1123 B, count=18, average=62 B\n",
      "/opt/anaconda3/lib/python3.12/site-packages/zmq/sugar/socket.py:808: size=1056 B, count=6, average=176 B\n"
     ]
    }
   ],
   "source": [
    "main()"
   ]
  },
  {
   "cell_type": "markdown",
   "metadata": {},
   "source": [
    "#### What is tracemalloc? = trace mem allocation\n",
    "\n",
    "tracemalloc is a built-in Python module for tracking memory allocations.\n",
    "\n",
    "It helps identify where your program is consuming memory (“memory profiling”).\n",
    "\n",
    "Useful for detecting memory leaks, understanding memory usage, or comparing the footprint of different code segments.\n",
    "\n",
    "#### Why Is This Useful?\n",
    "Tracks high memory spots: Identify lines responsible for large allocations.\n",
    "\n",
    "Helps optimize code: Change problematic code to save memory.\n",
    "\n",
    "Compare code versions: Profile before/after optimizations."
   ]
  },
  {
   "cell_type": "code",
   "execution_count": null,
   "metadata": {},
   "outputs": [],
   "source": []
  }
 ],
 "metadata": {
  "kernelspec": {
   "display_name": "base",
   "language": "python",
   "name": "python3"
  },
  "language_info": {
   "codemirror_mode": {
    "name": "ipython",
    "version": 3
   },
   "file_extension": ".py",
   "mimetype": "text/x-python",
   "name": "python",
   "nbconvert_exporter": "python",
   "pygments_lexer": "ipython3",
   "version": "3.12.4"
  }
 },
 "nbformat": 4,
 "nbformat_minor": 2
}
