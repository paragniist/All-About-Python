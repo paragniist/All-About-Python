{
 "cells": [
  {
   "cell_type": "markdown",
   "metadata": {},
   "source": [
    "<h3>SQL and SQlite </h3>\n",
    "SQl is a standard language for managing and manipulating relational databases. \n",
    "Sqlite is a self contained, serverless and zero-configuration database engine that is widely used for embedded database systems."
   ]
  },
  {
   "cell_type": "code",
   "execution_count": 17,
   "metadata": {},
   "outputs": [],
   "source": [
    "import sqlite3"
   ]
  },
  {
   "cell_type": "code",
   "execution_count": 18,
   "metadata": {},
   "outputs": [
    {
     "data": {
      "text/plain": [
       "<sqlite3.Connection at 0x1171c0220>"
      ]
     },
     "execution_count": 18,
     "metadata": {},
     "output_type": "execute_result"
    }
   ],
   "source": [
    "## connect to an SQlite database\n",
    "connection = sqlite3.connect('example.db')\n",
    "connection"
   ]
  },
  {
   "cell_type": "code",
   "execution_count": 19,
   "metadata": {},
   "outputs": [],
   "source": [
    "cursor = connection.cursor()"
   ]
  },
  {
   "cell_type": "code",
   "execution_count": 20,
   "metadata": {},
   "outputs": [],
   "source": [
    "## creating a table\n",
    "cursor.execute(\n",
    "''' \n",
    "Create table if not Exists\n",
    "employees(\n",
    "id Integer Primary key,\n",
    "name Text Not Null,\n",
    "age Integer,\n",
    "department text\n",
    ")\n",
    "\n",
    " '''\n",
    ")\n",
    "## Commit the chnages\n",
    "connection.commit()\n"
   ]
  },
  {
   "cell_type": "code",
   "execution_count": 21,
   "metadata": {},
   "outputs": [
    {
     "data": {
      "text/plain": [
       "<sqlite3.Cursor at 0x1171c5940>"
      ]
     },
     "execution_count": 21,
     "metadata": {},
     "output_type": "execute_result"
    }
   ],
   "source": [
    "cursor.execute('''  \n",
    "Select * from employees\n",
    "\n",
    "'''\n",
    "\n",
    "\n",
    ")"
   ]
  },
  {
   "cell_type": "code",
   "execution_count": 22,
   "metadata": {},
   "outputs": [],
   "source": [
    "## Insert the data into sqlite table\n",
    "\n",
    "cursor.execute('''\n",
    "Insert into employees(name,age,department)\n",
    "               values('Ashmeet',21,'Data Scientist')\n",
    "''')\n",
    "\n",
    "cursor.execute('''\n",
    "Insert into employees(name,age,department)\n",
    "               values('Ashy',20,'Ai Engineer')\n",
    "''')\n",
    "\n",
    "cursor.execute('''\n",
    "Insert into employees(name,age,department)\n",
    "               values('Abhi',22,'Ml engineer')\n",
    "''')\n",
    "\n",
    "connection.commit()"
   ]
  },
  {
   "cell_type": "code",
   "execution_count": 23,
   "metadata": {},
   "outputs": [
    {
     "name": "stdout",
     "output_type": "stream",
     "text": [
      "(1, 'Ashmeet', 30, 'Data Scientist')\n",
      "(2, 'Ashy', 20, 'Ai Engineer')\n",
      "(3, 'Ashmeet', 30, 'Data Scientist')\n",
      "(4, 'Ashy', 20, 'Ai Engineer')\n",
      "(5, 'Ashmeet', 21, 'Data Scientist')\n",
      "(6, 'Ashy', 20, 'Ai Engineer')\n",
      "(7, 'Abhi', 22, 'Ml engineer')\n"
     ]
    }
   ],
   "source": [
    "## Quering data from sqlite3 from the table:\n",
    "\n",
    "cursor.execute('Select * from employees')\n",
    "rows=cursor.fetchall()\n",
    "\n",
    "## print the queried data\n",
    "\n",
    "for row in rows:\n",
    "    print(row)"
   ]
  },
  {
   "cell_type": "code",
   "execution_count": 24,
   "metadata": {},
   "outputs": [],
   "source": [
    "## update the data in the table \n",
    "cursor.execute('''\n",
    "Update employees\n",
    "Set age=30\n",
    "where name=\"Ashmeet\"\n",
    "               ''')\n",
    "\n",
    "connection.commit()"
   ]
  },
  {
   "cell_type": "code",
   "execution_count": 25,
   "metadata": {},
   "outputs": [
    {
     "name": "stdout",
     "output_type": "stream",
     "text": [
      "(1, 'Ashmeet', 30, 'Data Scientist')\n",
      "(2, 'Ashy', 20, 'Ai Engineer')\n",
      "(3, 'Ashmeet', 30, 'Data Scientist')\n",
      "(4, 'Ashy', 20, 'Ai Engineer')\n",
      "(5, 'Ashmeet', 30, 'Data Scientist')\n",
      "(6, 'Ashy', 20, 'Ai Engineer')\n",
      "(7, 'Abhi', 22, 'Ml engineer')\n"
     ]
    }
   ],
   "source": [
    "cursor.execute('Select * from employees')\n",
    "rows=cursor.fetchall()\n",
    "\n",
    "## print the queried data\n",
    "\n",
    "for row in rows:\n",
    "    print(row)"
   ]
  },
  {
   "cell_type": "code",
   "execution_count": 26,
   "metadata": {},
   "outputs": [],
   "source": [
    "## Delete the data from table:\n",
    "cursor.execute(\n",
    "    '''\n",
    "Delete from Employees\n",
    "where name = \"Abhi\"\n",
    "'''\n",
    ")\n",
    "\n",
    "connection.commit()"
   ]
  },
  {
   "cell_type": "code",
   "execution_count": 27,
   "metadata": {},
   "outputs": [
    {
     "name": "stdout",
     "output_type": "stream",
     "text": [
      "(1, 'Ashmeet', 30, 'Data Scientist')\n",
      "(2, 'Ashy', 20, 'Ai Engineer')\n",
      "(3, 'Ashmeet', 30, 'Data Scientist')\n",
      "(4, 'Ashy', 20, 'Ai Engineer')\n",
      "(5, 'Ashmeet', 30, 'Data Scientist')\n",
      "(6, 'Ashy', 20, 'Ai Engineer')\n"
     ]
    }
   ],
   "source": [
    "cursor.execute('Select * from employees')\n",
    "rows=cursor.fetchall()\n",
    "\n",
    "## print the queried data\n",
    "\n",
    "for row in rows:\n",
    "    print(row)"
   ]
  },
  {
   "cell_type": "code",
   "execution_count": 28,
   "metadata": {},
   "outputs": [
    {
     "ename": "IntegrityError",
     "evalue": "UNIQUE constraint failed: sales.id",
     "output_type": "error",
     "traceback": [
      "\u001b[0;31m---------------------------------------------------------------------------\u001b[0m",
      "\u001b[0;31mIntegrityError\u001b[0m                            Traceback (most recent call last)",
      "Cell \u001b[0;32mIn[28], line 26\u001b[0m\n\u001b[1;32m     17\u001b[0m \u001b[38;5;66;03m## Insert data into the sales table:\u001b[39;00m\n\u001b[1;32m     19\u001b[0m sales_data \u001b[38;5;241m=\u001b[39m [\n\u001b[1;32m     20\u001b[0m     (\u001b[38;5;241m1\u001b[39m, \u001b[38;5;124m'\u001b[39m\u001b[38;5;124m2023-01-15\u001b[39m\u001b[38;5;124m'\u001b[39m, \u001b[38;5;124m'\u001b[39m\u001b[38;5;124mLaptop\u001b[39m\u001b[38;5;124m'\u001b[39m, \u001b[38;5;241m1200\u001b[39m, \u001b[38;5;124m'\u001b[39m\u001b[38;5;124mNorth\u001b[39m\u001b[38;5;124m'\u001b[39m),\n\u001b[1;32m     21\u001b[0m     (\u001b[38;5;241m2\u001b[39m, \u001b[38;5;124m'\u001b[39m\u001b[38;5;124m2023-01-16\u001b[39m\u001b[38;5;124m'\u001b[39m, \u001b[38;5;124m'\u001b[39m\u001b[38;5;124mMouse\u001b[39m\u001b[38;5;124m'\u001b[39m, \u001b[38;5;241m25\u001b[39m, \u001b[38;5;124m'\u001b[39m\u001b[38;5;124mSouth\u001b[39m\u001b[38;5;124m'\u001b[39m),\n\u001b[1;32m     22\u001b[0m     (\u001b[38;5;241m3\u001b[39m, \u001b[38;5;124m'\u001b[39m\u001b[38;5;124m2023-01-17\u001b[39m\u001b[38;5;124m'\u001b[39m, \u001b[38;5;124m'\u001b[39m\u001b[38;5;124mKeyboard\u001b[39m\u001b[38;5;124m'\u001b[39m, \u001b[38;5;241m75\u001b[39m, \u001b[38;5;124m'\u001b[39m\u001b[38;5;124mEast\u001b[39m\u001b[38;5;124m'\u001b[39m),\n\u001b[1;32m     23\u001b[0m     (\u001b[38;5;241m4\u001b[39m, \u001b[38;5;124m'\u001b[39m\u001b[38;5;124m2023-01-18\u001b[39m\u001b[38;5;124m'\u001b[39m, \u001b[38;5;124m'\u001b[39m\u001b[38;5;124mMonitor\u001b[39m\u001b[38;5;124m'\u001b[39m, \u001b[38;5;241m300\u001b[39m, \u001b[38;5;124m'\u001b[39m\u001b[38;5;124mWest\u001b[39m\u001b[38;5;124m'\u001b[39m),\n\u001b[1;32m     24\u001b[0m ]\n\u001b[0;32m---> 26\u001b[0m cursor\u001b[38;5;241m.\u001b[39mexecutemany(\n\u001b[1;32m     27\u001b[0m \n\u001b[1;32m     28\u001b[0m \u001b[38;5;250m    \u001b[39m\u001b[38;5;124;03m'''  \u001b[39;00m\n\u001b[1;32m     29\u001b[0m \u001b[38;5;124;03mInsert into sales(id,date,product,sales,region)\u001b[39;00m\n\u001b[1;32m     30\u001b[0m \u001b[38;5;124;03m            values(?,?,?,?,?)\u001b[39;00m\n\u001b[1;32m     31\u001b[0m \u001b[38;5;124;03m'''\u001b[39;00m,sales_data\n\u001b[1;32m     32\u001b[0m )\n\u001b[1;32m     34\u001b[0m connection\u001b[38;5;241m.\u001b[39mcommit()\n",
      "\u001b[0;31mIntegrityError\u001b[0m: UNIQUE constraint failed: sales.id"
     ]
    }
   ],
   "source": [
    "## Working with Sales data Mini Project\n",
    "## connect to an sqlite database\n",
    "connection=sqlite3.connect('sales_data,db')\n",
    "cursor = connection.cursor()\n",
    "\n",
    "# Create a table for sales data\n",
    "cursor.execute(''' \n",
    "create table if not exists sales (\n",
    "               id Integer Primary Key,\n",
    "               date Text not Null,\n",
    "               product Text Not Null,\n",
    "               sales Integer,\n",
    "               region text\n",
    "               )\n",
    "''')\n",
    "\n",
    "## Insert data into the sales table:\n",
    "\n",
    "sales_data = [\n",
    "    (1, '2023-01-15', 'Laptop', 1200, 'North'),\n",
    "    (2, '2023-01-16', 'Mouse', 25, 'South'),\n",
    "    (3, '2023-01-17', 'Keyboard', 75, 'East'),\n",
    "    (4, '2023-01-18', 'Monitor', 300, 'West'),\n",
    "]\n",
    "\n",
    "cursor.executemany(\n",
    "\n",
    "    '''  \n",
    "Insert into sales(id,date,product,sales,region)\n",
    "            values(?,?,?,?,?)\n",
    "''',sales_data\n",
    ")\n",
    "\n",
    "connection.commit()"
   ]
  },
  {
   "cell_type": "code",
   "execution_count": null,
   "metadata": {},
   "outputs": [
    {
     "name": "stdout",
     "output_type": "stream",
     "text": [
      "(1, '2023-01-15', 'Laptop', 1200, 'North')\n",
      "(2, '2023-01-16', 'Mouse', 25, 'South')\n",
      "(3, '2023-01-17', 'Keyboard', 75, 'East')\n",
      "(4, '2023-01-18', 'Monitor', 300, 'West')\n"
     ]
    }
   ],
   "source": [
    "cursor.execute('SELECT * from sales')\n",
    "rows = cursor.fetchall()\n",
    "\n",
    "# print the queried data\n",
    "for row in rows:\n",
    "    print(row)"
   ]
  },
  {
   "cell_type": "code",
   "execution_count": null,
   "metadata": {},
   "outputs": [],
   "source": [
    "## close the connection\n",
    "connection.close()"
   ]
  },
  {
   "cell_type": "code",
   "execution_count": null,
   "metadata": {},
   "outputs": [],
   "source": []
  }
 ],
 "metadata": {
  "kernelspec": {
   "display_name": "base",
   "language": "python",
   "name": "python3"
  },
  "language_info": {
   "codemirror_mode": {
    "name": "ipython",
    "version": 3
   },
   "file_extension": ".py",
   "mimetype": "text/x-python",
   "name": "python",
   "nbconvert_exporter": "python",
   "pygments_lexer": "ipython3",
   "version": "3.12.4"
  }
 },
 "nbformat": 4,
 "nbformat_minor": 2
}
