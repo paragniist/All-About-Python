{
 "cells": [
  {
   "cell_type": "code",
   "execution_count": null,
   "id": "e649fe9d-cf3b-4a1a-97bd-ae22acb91e4d",
   "metadata": {},
   "outputs": [],
   "source": [
    "# FUNCTIONS\n",
    "# If a group of statements is repeatedly required then it is not recommended to write \n",
    "# these statements everytime seperately.We have to define these statements as a single \n",
    "# unit and we can call that unit any number of times based on our requirement without \n",
    "# rewriting. This unit is nothing but function. \n",
    " \n",
    "# ֍ The main advantage of functions is code Reusability. \n",
    "# ֍ Note: In other languages functions are known as methods,procedures,subroutines etc \n",
    " \n",
    "# ֍ Python supports 2 types of functions \n",
    "# 1) Built in Functions \n",
    "# 2) User Defined Functions \n",
    " \n",
    "# 1) Built in Functions: \n",
    "# The functions which are coming along with Python software automatically, are called \n",
    "# built in functions or pre defined functions. \n",
    "# Eg: id() \n",
    "#         type() \n",
    "#         input() \n",
    "#         eval() \n",
    "#         etc.. \n",
    " \n",
    "# 2) User Defined Functions: \n",
    "# The functions which are developed by programmer explicitly according to business \n",
    "# requirements, are called user defined functions. \n",
    " \n",
    "#        Syntax to Create User defined Functions: \n",
    "#        def    function_name(parameters) : \n",
    "#                 \"\"\" doc string\"\"\" \n",
    "#                            ---- \n",
    "#                            ----- \n",
    "#                 return value \n",
    " \n",
    "#  Note: While creating functions we can use 2 keywords \n",
    "# 1) def (mandatory) \n",
    "# 2) return (optional) \n",
    " \n"
   ]
  },
  {
   "cell_type": "code",
   "execution_count": 2,
   "id": "f9d103f2-e2b3-451b-9787-8f7a48ed086a",
   "metadata": {},
   "outputs": [
    {
     "name": "stdout",
     "output_type": "stream",
     "text": [
      "Hello Durga  Good Morning\n",
      "Hello Ravi  Good Morning\n",
      "The Square of 4 is 16\n",
      "The Square of 5 is 25\n"
     ]
    }
   ],
   "source": [
    " \n",
    "# Parameters \n",
    "# Parameters are inputs to the function. If a function contains parameters, then at the time \n",
    "# of calling,compulsory we should provide values otherwise,otherwise we will get  error. \n",
    "# Eg: Write a function to take name of the student as input and print wish message by \n",
    "# name. \n",
    "def wish(name):  \n",
    "    print(\"Hello\",name,\" Good Morning\")   \n",
    "wish(\"Durga\")    \n",
    "wish(\"Ravi\")   \n",
    "   \n",
    "# Hello Durga  Good Morning   \n",
    "# Hello Ravi  Good Morning   \n",
    " \n",
    "# Eg: Write a function to take number as input and print its square value \n",
    "def squareIt(number):   \n",
    "    print(\"The Square of\",number,\"is\", number*number)   \n",
    "squareIt(4)   \n",
    "squareIt(5)   \n",
    "   \n",
    "# The Square of 4 is 16   \n",
    "# The Square of 5 is 25  "
   ]
  },
  {
   "cell_type": "code",
   "execution_count": 4,
   "id": "a6cba09f-1c3a-47c9-a193-de8fbba1491e",
   "metadata": {},
   "outputs": [
    {
     "name": "stdout",
     "output_type": "stream",
     "text": [
      "The sum is 30\n",
      "The sum is 300\n"
     ]
    }
   ],
   "source": [
    "# Return Statement: \n",
    "# Function can take input values as parameters and executes business logic, and returns \n",
    "# output to the caller with return statement. \n",
    " \n",
    "# Q) Write a Function to accept 2 Numbers as Input and  \n",
    "#       return Sum \n",
    "def add(x,y):   \n",
    "  return x+y   \n",
    "result=add(10,20)   \n",
    "print(\"The sum is\",result)   \n",
    "print(\"The sum is\",add(100,200))  "
   ]
  },
  {
   "cell_type": "code",
   "execution_count": 6,
   "id": "cf73e28a-0be8-4e8e-8413-8c1135795cc8",
   "metadata": {},
   "outputs": [
    {
     "name": "stdout",
     "output_type": "stream",
     "text": [
      "The Sum is : 150\n",
      "The Subtraction is : 50\n"
     ]
    }
   ],
   "source": [
    "def sum_sub(a,b):  \n",
    "    sum=a+b   \n",
    "    sub=a-b   \n",
    "    return sum,sub   \n",
    "x,y=sum_sub(100,50)   \n",
    "print(\"The Sum is :\",x)   \n",
    "print(\"The Subtraction is :\",y) "
   ]
  },
  {
   "cell_type": "code",
   "execution_count": 8,
   "id": "fc060039-51b8-499b-aacf-5e3d09a7b12e",
   "metadata": {},
   "outputs": [],
   "source": [
    "# # Types of Arguments \n",
    "# # def  f1(a,b): \n",
    "# #     ------ \n",
    "# #     ------ \n",
    "# #     ------ \n",
    "# #  f1(10,20) \n",
    " \n",
    "# #  a, b are formal arguments where as 10,20 are actual arguments. \n",
    " \n",
    "# # There are 4 types are actual arguments are allowed in Python. \n",
    "# # 1) Positional Arguments \n",
    "# # 2) Keyword Arguments \n",
    "# # 3) Default Arguments \n",
    "# # 4) Variable Length Arguments \n",
    " \n",
    "# # 1) Positional Arguments: \n",
    "# #  These are the arguments passed to function in correct positional order. \n",
    "# #                            def sub(a, b): \n",
    "# #                                  print(a-b) \n",
    " \n",
    "# #                             sub(100, 200) \n",
    "# #                             sub(200, 100) \n",
    " \n",
    "# #  The number of arguments and position of arguments must be matched. If we change \n",
    "# # the order then result may be changed. \n",
    "# #  If we change the number of arguments then we will get error.\n",
    "#  Keyword Arguments: \n",
    "#        We can pass argument values by keyword i.e by parameter name. \n",
    "# 1) def wish(name,msg):   \n",
    "# 2)     print(\"Hello\",name,msg)   \n",
    "# 3) wish(name=\"Durga\",msg=\"Good Morning\")   \n",
    "# 4) wish(msg=\"Good Morning\",name=\"Durga\")   \n",
    "# Output  \n",
    "# Hello Durga Good Morning   \n",
    "# Hello Durga Good Morning   \n",
    "# Here the order of arguments is not important but number of arguments must be matched."
   ]
  },
  {
   "cell_type": "code",
   "execution_count": null,
   "id": "df2adfd7-6115-49f8-8947-c4d3c45d056f",
   "metadata": {},
   "outputs": [],
   "source": [
    "#  Default Arguments: \n",
    "#       Sometimes we can provide default values for our positional arguments. \n",
    "# 1) def wish(name=\"Guest\"):   \n",
    "# 2)     print(\"Hello\",name,\"Good Morning\")     \n",
    "# 3) wish(\"Durga\")   \n",
    "# 4) wish()   \n",
    "# Output  \n",
    "# Hello Durga Good Morning   \n",
    "# Hello Guest Good Morning   \n",
    "# If we are not passing any name then only default value will be considered. "
   ]
  },
  {
   "cell_type": "code",
   "execution_count": null,
   "id": "8dca36f1-6d64-41fa-ad9c-29ab9c66b00f",
   "metadata": {},
   "outputs": [],
   "source": [
    "#  Variable Length Arguments: \n",
    "#  Sometimes we can pass variable number of arguments to our function, such type of \n",
    "# arguments are called variable length arguments. \n",
    "#  We can declare a variable length argument with * symbol   as follows \n",
    "#  def f1(*n): \n",
    "#  We can call this function by passing any number of arguments including zero number. \n",
    "#  Internally all these values represented in the form of tuple."
   ]
  },
  {
   "cell_type": "code",
   "execution_count": null,
   "id": "449530c3-00d3-4673-aa0f-9a9497fa15e5",
   "metadata": {},
   "outputs": [],
   "source": [
    "Note: Function vs Module vs Library \n",
    "1) A group of lines with some name is called a function \n",
    "2) A group of functions saved to a file, is called Module \n",
    "3) A group of Modules is nothing but Library "
   ]
  },
  {
   "cell_type": "code",
   "execution_count": null,
   "id": "fa45f9fe-e07f-4d9f-96d7-825bfc5105d6",
   "metadata": {},
   "outputs": [],
   "source": [
    "# # Types of Variables \n",
    "# # Python supports 2 types of variables. \n",
    " \n",
    "# # 1) Global Variables \n",
    "# # 2) Local Variables \n",
    " \n",
    "# # 1) Global Variables \n",
    "# #  The variables which are declared outside of function are called global variables. \n",
    "# #  These variables can be accessed in all functions of that module. \n",
    "# # 1) a=10  # global variable   \n",
    "# # 2) def f1():   \n",
    "# # 3)     print(a)   \n",
    "# # 4)    \n",
    "# # 5) def f2():   \n",
    "# # 6)     print(a)   \n",
    "# # 7)    \n",
    "# # 8) f1()   \n",
    "# # 9) f2()   \n",
    "# # Output   \n",
    "# # 10   \n",
    "# # 10  \n",
    "\n",
    "\n",
    "\n",
    "# 2) Local Variables: \n",
    "#  The variables which are declared inside a function are called local variables. \n",
    "#  Local variables are available only for the function in which we declared it.i.e from \n",
    "# outside of function we cannot access. \n",
    "# 1) def f1():   \n",
    "# 2)     a=10   \n",
    "# 3)     print(a)    # valid   \n",
    "# 4)    \n",
    "# 5) def f2():   \n",
    "# 6)     print(a)      #invalid   \n",
    "# 7)    \n",
    "# 8) f1()   \n",
    "# 9) f2()   \n",
    "# NameError: name 'a' is not defined  "
   ]
  },
  {
   "cell_type": "code",
   "execution_count": null,
   "id": "c93e724e-affa-42c4-b4ea-67449cc4e6b4",
   "metadata": {},
   "outputs": [],
   "source": [
    "# Recursive Functions \n",
    "#  A function that calls itself is known as Recursive Function. \n",
    " \n",
    "#  Eg: \n",
    "#  factorial(3) = 3 * factorial(2) \n",
    "#                        = 3 * 2 * factorial(1) \n",
    "#                        = 3 * 2 * 1 * factorial(0) \n",
    "#                        = 3 * 2 * 1 * 1 \n",
    "#                        = 6 \n",
    "# factorial(n) =  n * factorial(n-1)"
   ]
  },
  {
   "cell_type": "code",
   "execution_count": null,
   "id": "2d37ce50-33a5-4312-875a-9fba1c2265e2",
   "metadata": {},
   "outputs": [],
   "source": [
    "# filter() Function:  \n",
    "# We can use filter() function to filter values from the given sequence based on some \n",
    "# condition. \n",
    " \n",
    "# filter(function,sequence) \n",
    "# Where Function Argument is responsible to perform conditional check Sequence can be \n",
    "# List OR Tuple OR String."
   ]
  },
  {
   "cell_type": "code",
   "execution_count": null,
   "id": "0cdeef78-1344-4a03-8715-bbb9d2fc2bfa",
   "metadata": {},
   "outputs": [],
   "source": [
    "# map() Function: \n",
    "#  For every element present in the given sequence,apply some functionality and \n",
    "# generate new element with the required modification.  For this requirement we \n",
    "# should go for map() function. \n",
    " \n",
    "#  Eg: For every element present in the list perform double and generate new list of \n",
    "# doubles. \n",
    " \n",
    "#  Syntax: map(function, sequence) \n",
    " \n",
    "#  The function can be applied on each element of sequence and generates new \n",
    "# sequence. \n",
    " "
   ]
  }
 ],
 "metadata": {
  "kernelspec": {
   "display_name": "Python 3 (ipykernel)",
   "language": "python",
   "name": "python3"
  },
  "language_info": {
   "codemirror_mode": {
    "name": "ipython",
    "version": 3
   },
   "file_extension": ".py",
   "mimetype": "text/x-python",
   "name": "python",
   "nbconvert_exporter": "python",
   "pygments_lexer": "ipython3",
   "version": "3.12.4"
  }
 },
 "nbformat": 4,
 "nbformat_minor": 5
}
