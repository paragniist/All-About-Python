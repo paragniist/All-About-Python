{
 "cells": [
  {
   "cell_type": "code",
   "execution_count": null,
   "id": "51a2189f-62b4-4ef6-8231-7deed96d8395",
   "metadata": {},
   "outputs": [],
   "source": [
    "# ## String Data Type\n",
    "\n",
    "# Any sequence of characters within either single quotes or double quotes is considered as a \n",
    "# String.\n",
    "\n",
    "# Syntax: \n",
    "# s = 'durga' \n",
    "# s = \"durga\" \n",
    "\n",
    "\n",
    "# How to define multi-line String Literals? \n",
    "# We can define multi-line String literals by using triple single or double quotes. \n",
    " \n",
    "# Eg: \n",
    "# >>> s = '''durga \n",
    "# software \n",
    "# solutions''' \n",
    " \n",
    "# We can also use triple quotes to use single quotes or double quotes as symbol inside \n",
    "# String literal. \n",
    " \n",
    "# 1) s = 'This is ' single quote symbol'  Invalid \n",
    "# 2) s = 'This is \\' single quote symbol'  Valid \n",
    "# 3) s = \"This is ' single quote symbol\"  Valid \n",
    "# 4) s = 'This is \" double quotes symbol'   Valid \n",
    "# 5) s = 'The \"Python Notes\" by 'durga' is very helpful'  Invalid \n",
    "# 6) s = \"The \"Python Notes\" by 'durga' is very helpful\"  Invalid \n",
    "# 7) s = 'The \\\"Python Notes\\\" by \\'durga\\' is very helpful'   Valid \n",
    "# 8) s = '''The \"Python Notes\" by 'durga' is very helpful'''   Valid\n",
    "\n",
    "\n"
   ]
  },
  {
   "cell_type": "code",
   "execution_count": null,
   "id": "9444519e-a7f5-40bb-9edb-f5f515d93e75",
   "metadata": {},
   "outputs": [],
   "source": [
    "# # How to Access Characters of a String? \n",
    "# # We can access characters of a string by using the following ways. \n",
    "# # 1) By using index \n",
    "# # 2) By using slice operator \n",
    " \n",
    "# # 1) Accessing Characters By using Index: \n",
    "# #  Python supports both +ve and -ve Index. \n",
    "# #  +ve Index means Left to Right (Forward Direction) \n",
    "# #  -ve Index means Right to Left (Backward Direction) \n",
    "# #               Eg: s = 'durga' \n",
    "# # 1) >>> s='durga'   \n",
    "# # 2) >>> s[0]   \n",
    "# # 3) 'd'   \n",
    "# # 4) >>> s[4]   \n",
    "# # 5) 'a'   \n",
    "# # 6) >>> s[-1]   \n",
    "# # 7) 'a'   \n",
    "# # 8) >>> s[10]     \n",
    "# # 9) IndexError: string index out of range  \n",
    "\n",
    "\n",
    "\n",
    "#  Accessing Characters by using Slice Operator: \n",
    "#  Syntax:  s[bEginindex:endindex:step] \n",
    " \n",
    "#  Begin Index: From where we have to consider slice (substring) \n",
    "#  End Index: We have to terminate the slice (substring) at endindex-1  \n",
    "#  Step: Incremented Value.\n",
    "\n",
    "\n",
    "\n",
    "#  >>> s=\"Learning Python is very very easy!!!\"   \n",
    "# 2) >>> s[1:7:1]   \n",
    "# 3) 'earnin'   \n",
    "# 4) >>> s[1:7]   \n",
    "# 5) 'earnin'   \n",
    "# 6) >>> s[1:7:2]   \n",
    "# 7) 'eri'   \n",
    "# 8) >>> s[:7]   \n",
    "# 9) 'Learnin'   \n",
    "# 10) >>> s[7:]   \n",
    "# 11) 'g Python is very very easy!!!'   \n",
    "# 12) >>> s[::]   \n",
    "# 13) 'Learning Python is very very easy!!!'   \n",
    "# 14) >>> s[:]   \n",
    "# 15) 'Learning Python is very very easy!!!'   \n",
    "# 16) >>> s[::-1]   \n",
    "# 17) '!!!ysae yrev yrev si nohtyP gninraeL' "
   ]
  },
  {
   "cell_type": "code",
   "execution_count": null,
   "id": "7cdaea4e-b9f8-4411-b8b1-3c072ac4d46a",
   "metadata": {},
   "outputs": [],
   "source": [
    "# Checking Membership: \n",
    "# We can check whether the character or string is the member of another string or not by \n",
    "# using in and not in operators \n",
    " \n",
    "# s = 'durga' \n",
    "# print('d' in s)  True \n",
    "# print('z' in s)  False\n",
    "\n",
    "\n",
    "# s = input(\"Enter main string:\")   \n",
    "# 2) subs = input(\"Enter sub string:\")   \n",
    "# 3) if subs in s:   \n",
    "# 4)     print(subs,\"is found in main string\")   \n",
    "# 5) else:   \n",
    "# 6)     print(subs,\"is not found in main string\")  "
   ]
  },
  {
   "cell_type": "code",
   "execution_count": null,
   "id": "2e3c167f-1746-4e3a-83c8-fbcb4b02f8fa",
   "metadata": {},
   "outputs": [],
   "source": [
    "# Comparison of Strings: \n",
    "#  We can use comparison operators (<, <=, >, >=) and equality operators (==, !=) for \n",
    "# strings. \n",
    "#  Comparison will be performed based on alphabetical order. \n",
    "# 1) s1=input(\"Enter first string:\")   \n",
    "# 2) s2=input(\"Enter Second string:\")   \n",
    "# 3) if s1==s2:   \n",
    "# 4)     print(\"Both strings are equal\")   \n",
    "# 5) elif s1<s2:   \n",
    "# 6)     print(\"First String is less than Second String\")   \n",
    "# 7) else:   \n",
    "# 8)     print(\"First String is greater than Second String\")  "
   ]
  },
  {
   "cell_type": "code",
   "execution_count": null,
   "id": "d47a82e6-9f8d-4d2f-b050-048e753689cb",
   "metadata": {},
   "outputs": [],
   "source": [
    "# Removing Spaces from the String: \n",
    " \n",
    "# We can use the following 3 methods \n",
    " \n",
    "# 1) rstrip()  To remove spaces at right hand side \n",
    "# 2) lstrip() To remove spaces at left hand side \n",
    "# 3) strip()  To remove spaces both sides \n",
    "# 1) city=input(\"Enter your city Name:\")   \n",
    "# 2) scity=city.strip()   \n",
    "# 3) if scity=='Hyderabad':   \n",
    "# 4)     print(\"Hello Hyderbadi..Adab\")   \n",
    "# 5) elif scity=='Chennai':   \n",
    "# 6)     print(\"Hello Madrasi...Vanakkam\")   \n",
    "# 7) elif scity==\"Bangalore\":   \n",
    "# 8)    print(\"Hello Kannadiga...Shubhodaya\")   \n",
    "# 9) else:   \n",
    "# 10)     print(\"your entered city is invalid\") "
   ]
  },
  {
   "cell_type": "code",
   "execution_count": null,
   "id": "2252a6f9-ee24-4559-976a-69b3dad2c71a",
   "metadata": {},
   "outputs": [],
   "source": [
    "# Replacing a String with another String: \n",
    "# s.replace(oldstring, newstring) \n",
    "# inside s, every occurrence of old String will be replaced with new String. \n",
    " \n",
    "# Eg 1: \n",
    "# s = \"Learning Python is very difficult\" \n",
    "# s1 = s.replace(\"difficult\",\"easy\") \n",
    "# print(s1) \n",
    " \n",
    "# Output: Learning Python is very easy \n",
    " \n",
    "# Eg 2: All occurrences will be replaced \n",
    "# s = \"ababababababab\" \n",
    "# s1 = s.replace(\"a\",\"b\") \n",
    "# print(s1) \n",
    " \n",
    "# Output: bbbbbbbbbbbbbb"
   ]
  },
  {
   "cell_type": "code",
   "execution_count": null,
   "id": "1dfec680-9b9e-4b85-b916-423b72f128c0",
   "metadata": {},
   "outputs": [],
   "source": [
    "# Splitting of Strings: \n",
    "#  We can split the given string according to specified seperator by using split() method. \n",
    "#  l = s.split(seperator) \n",
    "#  The default seperator is space. The return type of split() method is List. \n",
    "# 1) s=\"durga software solutions\"   \n",
    "# 2) l=s.split()   \n",
    "# 3) for x in l:   \n",
    "# 4)     print(x)   \n",
    "# Output: \n",
    "# durga \n",
    "# software \n",
    "# solutions \n",
    "# 1) s=\"22-02-2018\"   \n",
    "# 2) l=s.split('-')   \n",
    "# 3) for x in l:   \n",
    "# 4)     print(x)   \n",
    "# Output: \n",
    "# 22 \n",
    "# 02 \n",
    "# 2018"
   ]
  },
  {
   "cell_type": "code",
   "execution_count": 2,
   "id": "5a8c0789-8177-4a1c-ad8e-dfd38aa69ef7",
   "metadata": {},
   "outputs": [
    {
     "name": "stdout",
     "output_type": "stream",
     "text": [
      "sunny-bunny-chinny\n"
     ]
    }
   ],
   "source": [
    "# Joining of Strings: \n",
    "# We can join a Group of Strings (List OR Tuple) wrt the given Seperator. \n",
    "# s  =  seperator.join(group of strings) \n",
    " \n",
    "#Eg 1: \n",
    "t = ('sunny', 'bunny', 'chinny') \n",
    "s = '-'.join(t) \n",
    "print(s) \n",
    " \n"
   ]
  },
  {
   "cell_type": "code",
   "execution_count": 4,
   "id": "23d8159c-b14a-49c3-b18a-6c4ecef5f99c",
   "metadata": {},
   "outputs": [
    {
     "name": "stdout",
     "output_type": "stream",
     "text": [
      "LEARNING PYTHON IS VERY EASY\n",
      "learning python is very easy\n",
      "LEARNING pYTHON IS VERY eASY\n",
      "Learning Python Is Very Easy\n",
      "Learning python is very easy\n"
     ]
    }
   ],
   "source": [
    "# Changing Case of a String: \n",
    "# We can change case of a string by using the following 4 methods. \n",
    " \n",
    "# 1) upper()  To convert all characters to upper case \n",
    "# 2) lower()  To convert all characters to lower case \n",
    "# 3) swapcase()  Converts all lower case characters to upper case and all upper case \n",
    "# characters to lower case \n",
    "# 4) title()  To convert all character to title case. i.e first character in every word should \n",
    "# be upper case and all remaining characters should be in lower case. \n",
    "# 5) capitalize()  Only first character will be converted to upper case and all remaining \n",
    "# characters can be converted to lower case  \n",
    "s = 'learning Python is very Easy'   \n",
    "print(s.upper())   \n",
    "print(s.lower())   \n",
    "print(s.swapcase())   \n",
    "print(s.title())   \n",
    "print(s.capitalize())   \n",
    "# Output: \n",
    "# LEARNING PYTHON IS VERY EASY \n",
    "# learning python is very easy \n",
    "# LEARNING pYTHON IS VERY eASY \n",
    "# Learning Python Is Very Easy \n",
    "# Learning python is very easy "
   ]
  },
  {
   "cell_type": "code",
   "execution_count": 6,
   "id": "31253701-a9fb-44db-a7b5-b15e9f230e01",
   "metadata": {},
   "outputs": [
    {
     "name": "stdout",
     "output_type": "stream",
     "text": [
      "True\n",
      "False\n",
      "True\n"
     ]
    }
   ],
   "source": [
    "# Checking Starting and Ending Part of the String: \n",
    "# Python contains the following methods for this purpose \n",
    "# s.startswith(substring) \n",
    "# s.endswith(substring) \n",
    "s = 'learning Python is very easy'   \n",
    "print(s.startswith('learning'))   \n",
    "print(s.endswith('learning'))   \n",
    "print(s.endswith('easy'))   "
   ]
  },
  {
   "cell_type": "code",
   "execution_count": null,
   "id": "7bb71a4b-ea7b-437f-8e97-ffced6a5a65a",
   "metadata": {},
   "outputs": [],
   "source": [
    "# To Check Type of Characters Present in a String: \n",
    "# Python contains the following methods for this purpose. \n",
    " \n",
    "# 1) isalnum(): Returns True if all characters are alphanumeric( a to z , A to Z ,0 to9 ) \n",
    "# 2) isalpha(): Returns True if all characters are only alphabet symbols(a to z,A to Z) \n",
    "# 3) isdigit(): Returns True if all characters are digits only( 0 to 9) \n",
    "# 4) islower(): Returns True if all characters are lower case alphabet symbols \n",
    "# 5) isupper(): Returns True if all characters are upper case aplhabet symbols \n",
    "# 6) istitle(): Returns True if string is in title case \n",
    "# 7) isspace(): Returns True if string contains only spaces "
   ]
  },
  {
   "cell_type": "code",
   "execution_count": null,
   "id": "b1d701f8-43df-4fcd-aa59-9c2fcf7f0a54",
   "metadata": {},
   "outputs": [],
   "source": [
    "#LIST DATA STRUCTURE"
   ]
  }
 ],
 "metadata": {
  "kernelspec": {
   "display_name": "Python 3 (ipykernel)",
   "language": "python",
   "name": "python3"
  },
  "language_info": {
   "codemirror_mode": {
    "name": "ipython",
    "version": 3
   },
   "file_extension": ".py",
   "mimetype": "text/x-python",
   "name": "python",
   "nbconvert_exporter": "python",
   "pygments_lexer": "ipython3",
   "version": "3.12.4"
  }
 },
 "nbformat": 4,
 "nbformat_minor": 5
}
