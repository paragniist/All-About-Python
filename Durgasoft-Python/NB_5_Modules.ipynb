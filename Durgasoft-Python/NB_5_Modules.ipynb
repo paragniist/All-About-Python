{
 "cells": [
  {
   "cell_type": "code",
   "execution_count": null,
   "id": "acdf6aeb-8648-499e-a470-e81430666020",
   "metadata": {},
   "outputs": [],
   "source": [
    "# A group of functions, variables and classes saved to a file, which is nothing but \n",
    "# module. \n",
    "#  Every Python file (.py) acts as a module"
   ]
  },
  {
   "cell_type": "code",
   "execution_count": null,
   "id": "7248fbf2-7cea-4642-bdb9-bd5899074e2a",
   "metadata": {},
   "outputs": [],
   "source": [
    "# Renaming a Module at the time of import                      \n",
    "# (Module Aliasing): \n",
    "#  Eg: import durgamath as m \n",
    "#  Here durgamath is original module name and m is alias name. \n",
    "#  We can access members by using alias name m "
   ]
  },
  {
   "cell_type": "code",
   "execution_count": null,
   "id": "dc86b8bf-18a5-4b99-9283-08a08eb6f9a2",
   "metadata": {},
   "outputs": [],
   "source": [
    "# from ... import: \n",
    "# We can import particular members of module by using from ... import . \n",
    "# The main advantage of this is we can access members directly without using module \n",
    "# name. \n",
    "# 1) from durgamath import x,add   \n",
    "# 2) print(x)   \n",
    "# 3) add(10,20)   \n",
    "# 4) product(10,20)   NameError: name 'product' is not defined   "
   ]
  },
  {
   "cell_type": "code",
   "execution_count": 4,
   "id": "911e91e9-495e-4d9d-9b7c-850b883f781a",
   "metadata": {},
   "outputs": [
    {
     "name": "stdout",
     "output_type": "stream",
     "text": [
      "['In', 'Out', '_', '_1', '_3', '__', '___', '__builtin__', '__builtins__', '__doc__', '__loader__', '__name__', '__package__', '__pandas', '__session__', '__spec__', '_dh', '_i', '_i1', '_i2', '_i3', '_i4', '_ih', '_ii', '_iii', '_oh', 'dataframe_columns', 'dataframe_hash', 'dtypes_str', 'exit', 'f1', 'get_dataframes', 'get_ipython', 'getpass', 'hashlib', 'import_pandas_safely', 'is_data_frame', 'json', 'open', 'quit', 'x', 'y']\n"
     ]
    }
   ],
   "source": [
    "# Finding Members of Module by using dir() Function: \n",
    "# Python provides inbuilt function dir() to list out all members of current module or a \n",
    "# specified module. \n",
    " \n",
    "# dir()  To list out all members of current module \n",
    "# dir(moduleName)  To list out all members of specified module \n",
    " \n",
    "# Eg 1: test.py \n",
    "x=10   \n",
    "y=20   \n",
    "def f1():   \n",
    "    print(\"Hello\")   \n",
    "print(dir())    # To print all members of current module "
   ]
  },
  {
   "cell_type": "code",
   "execution_count": null,
   "id": "8afac277-c9ab-4fa6-a72f-9ab9381d2adf",
   "metadata": {},
   "outputs": [],
   "source": []
  }
 ],
 "metadata": {
  "kernelspec": {
   "display_name": "Python 3 (ipykernel)",
   "language": "python",
   "name": "python3"
  },
  "language_info": {
   "codemirror_mode": {
    "name": "ipython",
    "version": 3
   },
   "file_extension": ".py",
   "mimetype": "text/x-python",
   "name": "python",
   "nbconvert_exporter": "python",
   "pygments_lexer": "ipython3",
   "version": "3.12.4"
  }
 },
 "nbformat": 4,
 "nbformat_minor": 5
}
