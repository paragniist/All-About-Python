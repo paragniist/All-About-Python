{
 "cells": [
  {
   "cell_type": "code",
   "execution_count": null,
   "id": "c3d4f17b-3277-4813-99bb-c74ea1fdba18",
   "metadata": {},
   "outputs": [],
   "source": [
    "# ##  Flow Control\n",
    "\n",
    "# Flow control describes the order in which statements will be executed at runtime.\n"
   ]
  },
  {
   "cell_type": "code",
   "execution_count": 7,
   "id": "8667b223-cab8-421d-a1d5-c339af4b0086",
   "metadata": {},
   "outputs": [
    {
     "name": "stdin",
     "output_type": "stream",
     "text": [
      "Enter Name: durga\n"
     ]
    },
    {
     "name": "stdout",
     "output_type": "stream",
     "text": [
      "Hello Durga Good Morning\n",
      "How are you!!!\n"
     ]
    }
   ],
   "source": [
    "# Conditional Statements\n",
    "\n",
    "#  if \n",
    "#      if condition : statement \n",
    "#                             OR \n",
    " \n",
    "#        if condition : \n",
    "#             statement-1 \n",
    "#             statement-2 \n",
    "#             statement-3 \n",
    " \n",
    "# If condition is true then statements will be executed. \n",
    "\n",
    "name=input(\"Enter Name:\")   \n",
    "if name==\"durga\" :    \n",
    "      print(\"Hello Durga Good Morning\")   \n",
    "print(\"How are you!!!\")  "
   ]
  },
  {
   "cell_type": "code",
   "execution_count": 13,
   "id": "273e8a50-30ee-4046-8a9c-81dce9092b7c",
   "metadata": {},
   "outputs": [
    {
     "name": "stdin",
     "output_type": "stream",
     "text": [
      "Enter Name: gurleen\n"
     ]
    },
    {
     "name": "stdout",
     "output_type": "stream",
     "text": [
      "how are you\n",
      "Have a great day!\n"
     ]
    }
   ],
   "source": [
    "#  if-else: \n",
    "#        if condition: \n",
    "#             Action-1 \n",
    "#        else: \n",
    "#             Action-2 \n",
    " \n",
    "# if condition is true then Action-1 will be executed otherwise Action-2 will be executed.\n",
    "\n",
    "\n",
    "name=input(\"Enter Name:\")\n",
    "if name==\"simar\":\n",
    "    print(\"I miss you\")\n",
    "else:\n",
    "    print(\"how are you\")\n",
    "print(\"Have a great day!\")    "
   ]
  },
  {
   "cell_type": "code",
   "execution_count": 21,
   "id": "437fa22c-bd4b-4b18-917d-6ce85ac98068",
   "metadata": {},
   "outputs": [
    {
     "name": "stdin",
     "output_type": "stream",
     "text": [
      "Enter Your Favourite Brand: REEBOK\n"
     ]
    },
    {
     "name": "stdout",
     "output_type": "stream",
     "text": [
      "Other Brands are not recommended\n"
     ]
    }
   ],
   "source": [
    "#  if-elif-else: \n",
    "#        if condition1: \n",
    "#                Action-1 \n",
    "#        elif condition2: \n",
    "#                Action-2 \n",
    "#        elif condition3: \n",
    "#                Action-3 \n",
    "#        elif condition4: \n",
    "#                Action-4 \n",
    "#               ... \n",
    "#        else: \n",
    "#              Default Action \n",
    " \n",
    "# # Based condition the corresponding action will be executed\n",
    "\n",
    "\n",
    "brand=input(\"Enter Your Favourite Brand:\")   \n",
    "if brand==\"RC\" :    \n",
    "    print(\"It is childrens brand\")   \n",
    "elif brand==\"KF\":   \n",
    "    print(\"It is not that much kick\")   \n",
    "elif brand==\"FO\":   \n",
    "    print(\"Buy one get Free One\")   \n",
    "else :   \n",
    "    print(\"Other Brands are not recommended\")  "
   ]
  },
  {
   "cell_type": "code",
   "execution_count": 25,
   "id": "1fc25062-3cf4-42e8-b6e2-02cc875220af",
   "metadata": {},
   "outputs": [
    {
     "name": "stdin",
     "output_type": "stream",
     "text": [
      "Enter first no: 30\n",
      "Enter second no: 90\n",
      "Enter third no: 10\n"
     ]
    },
    {
     "name": "stdout",
     "output_type": "stream",
     "text": [
      "n3 is smallest\n"
     ]
    }
   ],
   "source": [
    " # Write a program to find smallest of given 3 numbers? \n",
    "n1=int(input(\"Enter first no:\"))\n",
    "n2=int(input(\"Enter second no:\"))\n",
    "n3=int(input(\"Enter third no:\"))\n",
    "if n1<n2 and n1<n3:\n",
    "    print(\"n1 is smallest no\")\n",
    "elif n2<n3:\n",
    "    print(\" n2 is smallest no\")\n",
    "else:\n",
    "    print(\"n3 is smallest\")"
   ]
  },
  {
   "cell_type": "code",
   "execution_count": 29,
   "id": "d5ba5dc6-c1b2-47e6-b6f7-ad8cf084369c",
   "metadata": {},
   "outputs": [
    {
     "name": "stdin",
     "output_type": "stream",
     "text": [
      "Enter the no 256\n"
     ]
    },
    {
     "name": "stdout",
     "output_type": "stream",
     "text": [
      "Even\n"
     ]
    }
   ],
   "source": [
    "# Write a program to check whether the given number is even or odd?\n",
    "n=int(input(\"Enter the no\"))\n",
    "if n%2==0:\n",
    "    print (\"Even\")\n",
    "else:\n",
    "    print(\"Odd\")"
   ]
  },
  {
   "cell_type": "code",
   "execution_count": null,
   "id": "5844e731-5078-4727-b829-243b6a2beedc",
   "metadata": {},
   "outputs": [],
   "source": [
    "# Iterative Statements \n",
    "# ֍ If we want to execute a group of statements multiple times then we should go for \n",
    "# Iterative statements. \n",
    "# ֍ Python supports 2 types of iterative statements. \n",
    "# 1) for loop \n",
    "# 2) while loop\n",
    "\n"
   ]
  },
  {
   "cell_type": "code",
   "execution_count": 31,
   "id": "bf364146-8b96-4c29-afe9-c1c2bf5d687e",
   "metadata": {},
   "outputs": [
    {
     "name": "stdin",
     "output_type": "stream",
     "text": [
      "Enter some String:  gurleen\n"
     ]
    },
    {
     "name": "stdout",
     "output_type": "stream",
     "text": [
      "The character present at  0 index is : g\n",
      "The character present at  1 index is : u\n",
      "The character present at  2 index is : r\n",
      "The character present at  3 index is : l\n",
      "The character present at  4 index is : e\n",
      "The character present at  5 index is : e\n",
      "The character present at  6 index is : n\n"
     ]
    }
   ],
   "source": [
    "# for loop: \n",
    "# If we want to execute some action for every element present in some sequence           \n",
    "# (it may be string or collection) then we should go for for loop. \n",
    " \n",
    "#        Syntax: for x in sequence: \n",
    "#                         Body \n",
    " \n",
    "#         Where sequence can be string or any collection. \n",
    "#         Body will be executed for every element present in the sequence.\n",
    "\n",
    "\n",
    "\n",
    "# To print characters present in string index wise: \n",
    "s=input(\"Enter some String: \")   \n",
    "i=0   \n",
    "for x in s :   \n",
    "    print(\"The character present at \",i,\"index is :\",x)   \n",
    "    i=i+1   "
   ]
  },
  {
   "cell_type": "code",
   "execution_count": 39,
   "id": "9050fbbd-b786-430c-b47c-d1dd183f8004",
   "metadata": {},
   "outputs": [
    {
     "name": "stdin",
     "output_type": "stream",
     "text": [
      "Enter number: 100\n"
     ]
    },
    {
     "name": "stdout",
     "output_type": "stream",
     "text": [
      "The sum of first 100 numbers is : 5050\n"
     ]
    }
   ],
   "source": [
    "# while loop: \n",
    "# If we want to execute a group of statements iteratively until some condition false,then \n",
    "# we should go for while loop.\n",
    "\n",
    " #display the sum of first n numbers \n",
    "n=int(input(\"Enter number:\"))  \n",
    "sum=0   \n",
    "i=1   \n",
    "while i<=n:   \n",
    "    sum=sum+i   \n",
    "    i=i+1   \n",
    "print(\"The sum of first\",n,\"numbers is :\",sum)  "
   ]
  },
  {
   "cell_type": "code",
   "execution_count": 7,
   "id": "81b768c3-b421-4a0a-aca8-a606e6a5710d",
   "metadata": {},
   "outputs": [
    {
     "name": "stdout",
     "output_type": "stream",
     "text": [
      "0\n",
      "1\n",
      "2\n",
      "3\n",
      "4\n",
      "5\n",
      "6\n",
      "processing is enough..plz break\n"
     ]
    }
   ],
   "source": [
    "# Transfer Statements \n",
    " \n",
    "# 1) break: \n",
    "# We can use break statement inside loops to break loop execution based on some \n",
    "# condition.  \n",
    "for i in range(10):   \n",
    "    if i==7:   \n",
    "     print(\"processing is enough..plz break\")   \n",
    "     break   \n",
    "    print(i)  \n",
    "\n",
    "\n"
   ]
  },
  {
   "cell_type": "code",
   "execution_count": 12,
   "id": "a6c34641-93db-4763-bd96-900d4881bf6f",
   "metadata": {},
   "outputs": [
    {
     "name": "stdout",
     "output_type": "stream",
     "text": [
      "1\n",
      "3\n",
      "5\n",
      "7\n",
      "9\n"
     ]
    }
   ],
   "source": [
    " # continue: \n",
    " #      We can use continue statement to skip current iteration and continue next iteration. \n",
    "\n",
    "for i in range(10):   \n",
    "    if i%2==0:   \n",
    "        continue   \n",
    "    print(i)   "
   ]
  },
  {
   "cell_type": "code",
   "execution_count": 18,
   "id": "4a56521d-a3dc-48da-8e18-ab80782ffc0e",
   "metadata": {},
   "outputs": [
    {
     "name": "stdout",
     "output_type": "stream",
     "text": [
      "10\n",
      "20\n",
      "30\n",
      "40\n",
      "50\n",
      "Congrats ...all items processed successfully\n"
     ]
    }
   ],
   "source": [
    "# Loops with else Block: \n",
    "#  Inside loop execution, if break statement not executed, then only else part will be \n",
    "# executed. \n",
    "#  else means  loop without break.\n",
    "\n",
    "\n",
    "cart=[10,20,30,40,50]   \n",
    "for item in cart:   \n",
    "    if item>=500:   \n",
    "        print(\"We cannot process this order\")   \n",
    "        break   \n",
    "    print(item)   \n",
    "else:   \n",
    "    print(\"Congrats ...all items processed successfully\")  "
   ]
  },
  {
   "cell_type": "code",
   "execution_count": null,
   "id": "e902415b-d5d0-4810-9493-2e430df4534c",
   "metadata": {},
   "outputs": [],
   "source": [
    "# # # #  What is the difference between for loop and while loop  \n",
    "# # # #      in Python? \n",
    "# # # # ֍ We can use loops to repeat code execution \n",
    "# # # # ֍ Repeat code for every item in sequence  for loop \n",
    "# # # # ֍ Repeat code as long as condition is true  while loop \n",
    " \n",
    "# # # # Q) How to exit from the loop?  By using break statement \n",
    " \n",
    "# # # # Q)How to skip some iterations inside loop?  By using continue statement. \n",
    " \n",
    "# # # # Q)When else part will be executed wrt loops?  If loop executed without break\n",
    "\n",
    "\n",
    "\n",
    "# # #  pass statement: \n",
    "# # #  pass is a keyword in Python. \n",
    "# # #  In our programming syntactically if block is required which won't do anything then we \n",
    "# # # can define that empty block with pass keyword. \n",
    " \n",
    "# # # pass \n",
    "# # #      |- It is an empty statement \n",
    "# # #      |- It is null statement \n",
    "# # #      |- It won't do anything \n",
    " \n",
    "# # # Eg: if True: \n",
    "# # #        SyntaxError: unexpected EOF while parsing \n",
    "# # #        if True: pass  valid\n",
    "\n",
    "\n",
    "# # del Statement: \n",
    "# #  del is a keyword in Python. \n",
    "# #  After using a variable, it is highly recommended to delete that variable if it is no longer \n",
    "# # required,so that the corresponding object is eligible for Garbage Collection. \n",
    "# #  We can delete variable by using del keyword. \n",
    "# # 1) x = 10   \n",
    "# # 2) print(x)   \n",
    "# # 3) del x  \n",
    "\n",
    "\n",
    "\n",
    "\n",
    "# Difference between del and None: \n",
    "# In the case del, the variable will be removed and we cannot access that variable(unbind \n",
    "# operation) \n",
    "# 1) s = \"durga\"   \n",
    "# 2)  del s   \n",
    "# 3)  print(s)  NameError: name 's' is not defined.   \n",
    "# But in the case of None assignment the variable won't be removed but the corresponding \n",
    "# object is eligible for Garbage Collection (re bind operation). Hence after assigning with \n",
    "# None value, we can access that variable. \n",
    "# 1)  s = \"durga\"   \n",
    "# 2)  s = None   \n",
    "# 3)  print(s)  None   \n",
    " \n",
    " \n"
   ]
  }
 ],
 "metadata": {
  "kernelspec": {
   "display_name": "Python 3 (ipykernel)",
   "language": "python",
   "name": "python3"
  },
  "language_info": {
   "codemirror_mode": {
    "name": "ipython",
    "version": 3
   },
   "file_extension": ".py",
   "mimetype": "text/x-python",
   "name": "python",
   "nbconvert_exporter": "python",
   "pygments_lexer": "ipython3",
   "version": "3.12.4"
  }
 },
 "nbformat": 4,
 "nbformat_minor": 5
}
