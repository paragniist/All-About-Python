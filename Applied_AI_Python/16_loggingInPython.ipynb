{
 "cells": [
  {
   "cell_type": "markdown",
   "metadata": {},
   "source": [
    "<h3>Python Logging</h3>\n",
    "\n",
    "Logging is a crucial aspect of any application, providing a way to track events, errors, and operational information, Pythons built in logging module offers a flexible framework for emitting log messages from Python programs."
   ]
  },
  {
   "cell_type": "code",
   "execution_count": 2,
   "metadata": {},
   "outputs": [
    {
     "name": "stderr",
     "output_type": "stream",
     "text": [
      "2025-07-20 17:50:51-root-DEBUG-This is a debug mesasage\n",
      "2025-07-20 17:50:51-root-INFO-This is an info message\n",
      "2025-07-20 17:50:51-root-WARNING-This is a warning message\n",
      "2025-07-20 17:50:51-root-ERROR-This is an error message\n",
      "2025-07-20 17:50:51-root-CRITICAL-This is a critical message\n"
     ]
    }
   ],
   "source": [
    "import logging\n",
    "\n",
    "# configuring basic logging settings\n",
    "logging.basicConfig(level=logging.DEBUG)\n",
    "\n",
    "## log messages\n",
    "logging.debug(\"This is a debug mesasage\")\n",
    "logging.info(\"This is an info message\")\n",
    "logging.warning(\"This is a warning message\")\n",
    "logging.error(\"This is an error message\")\n",
    "logging.critical(\"This is a critical message\")"
   ]
  },
  {
   "cell_type": "markdown",
   "metadata": {},
   "source": [
    "<h3>Log Levels</h3>\n",
    "Pythons logging module has several log levels indicating the sevirity of events. The default levels are:\n",
    "<ul>\n",
    "<li>Debug: detailed information, typically of interest only when diagnosing problems.</li>\n",
    "<li>Info: Confirmation that things are working as expected.\n",
    "<li>Warning: An indication that something unexpected happened or indicative of some problem near future(eg. 'disk space low). The software is still working as expected. \n",
    "<li>error: due to a more serious problem, the software has not been able to perform,\n",
    "<li>Critical: A very serious error, indicating that the program itself may be unable \n"
   ]
  },
  {
   "cell_type": "code",
   "execution_count": 1,
   "metadata": {},
   "outputs": [],
   "source": [
    "import logging\n",
    "\n",
    "logging.basicConfig(\n",
    "    filename='app.log',\n",
    "    filemode='w',\n",
    "    level=logging.DEBUG,\n",
    "    format='%(asctime)s-%(name)s-%(levelname)s-%(message)s',\n",
    "    datefmt='%Y-%m-%d %H:%M:%S'\n",
    ")\n",
    "\n",
    "logging.debug(\"This is a debug message\")\n",
    "logging.info(\"This is an info message\")\n",
    "logging.warning(\"This is a warning message\")\n",
    "logging.error(\"This is an error message\")\n",
    "logging.critical(\"This is a critical message\")\n"
   ]
  },
  {
   "cell_type": "markdown",
   "metadata": {},
   "source": [
    "Python Logging: A Critical Skill for GenAI Engineers\n",
    "As your teacher, let me tell you upfront: logging is absolutely essential for your GenAI engineering journey. Think of logging as your detective toolkit - it's what separates professional developers from beginners. In GenAI applications, where models can behave unpredictably and processing pipelines are complex, logging isn't just helpful - it's mission-critical.\n",
    "\n",
    "Why Logging is Crucial for GenAI Engineers\n",
    "Debugging Complex AI Workflows\n",
    "GenAI applications involve multiple stages: data preprocessing, model inference, post-processing, and API responses. When something goes wrong (and it will), logs are your breadcrumbs leading you to the problem. Without proper logging, debugging a failed AI pipeline is like searching for a needle in a haystack while blindfolded.\n",
    "\n",
    "Production Monitoring\n",
    "In production GenAI systems, you need to monitor:\n",
    "\n",
    "Model performance metrics\n",
    "\n",
    "API response times\n",
    "\n",
    "Token usage and costs\n",
    "\n",
    "Error rates and failure patterns\n",
    "\n",
    "User interaction patterns\n",
    "\n",
    "Compliance and Audit Trails\n",
    "Many GenAI applications handle sensitive data. Proper logging creates audit trails that demonstrate compliance with data protection regulations and help track data lineage."
   ]
  },
  {
   "cell_type": "code",
   "execution_count": null,
   "metadata": {},
   "outputs": [],
   "source": []
  }
 ],
 "metadata": {
  "kernelspec": {
   "display_name": "base",
   "language": "python",
   "name": "python3"
  },
  "language_info": {
   "codemirror_mode": {
    "name": "ipython",
    "version": 3
   },
   "file_extension": ".py",
   "mimetype": "text/x-python",
   "name": "python",
   "nbconvert_exporter": "python",
   "pygments_lexer": "ipython3",
   "version": "3.12.4"
  }
 },
 "nbformat": 4,
 "nbformat_minor": 2
}
