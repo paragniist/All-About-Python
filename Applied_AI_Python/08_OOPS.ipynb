{
 "cells": [
  {
   "cell_type": "markdown",
   "metadata": {},
   "source": [
    "<h3>Class</h3>A class is like a blueprint for creating objects.\n",
    "<h4>Object</h4>An object is a real-world instance of a class — it's like an actual car built from the blueprint.<br>\n",
    "Each object has:\n",
    "\n",
    "Attributes (data) – like color, speed, etc.<br>\n",
    "Methods (functions) – like drive(), brake(), etc.<br>\n",
    "\n"
   ]
  },
  {
   "cell_type": "code",
   "execution_count": 2,
   "metadata": {},
   "outputs": [
    {
     "name": "stdout",
     "output_type": "stream",
     "text": [
      "<class '__main__.car'>\n",
      "4\n"
     ]
    }
   ],
   "source": [
    "class car:\n",
    "    pass\n",
    "audi=car()   #Objects of Class Car\n",
    "bmw=car()\n",
    "\n",
    "print(type(audi))\n",
    "\n",
    "audi.windows=4  #attribute of Audi Car\n",
    "print(audi.windows)\n"
   ]
  },
  {
   "cell_type": "code",
   "execution_count": 4,
   "metadata": {},
   "outputs": [
    {
     "data": {
      "text/plain": [
       "['__class__',\n",
       " '__delattr__',\n",
       " '__dict__',\n",
       " '__dir__',\n",
       " '__doc__',\n",
       " '__eq__',\n",
       " '__format__',\n",
       " '__ge__',\n",
       " '__getattribute__',\n",
       " '__getstate__',\n",
       " '__gt__',\n",
       " '__hash__',\n",
       " '__init__',\n",
       " '__init_subclass__',\n",
       " '__le__',\n",
       " '__lt__',\n",
       " '__module__',\n",
       " '__ne__',\n",
       " '__new__',\n",
       " '__reduce__',\n",
       " '__reduce_ex__',\n",
       " '__repr__',\n",
       " '__setattr__',\n",
       " '__sizeof__',\n",
       " '__str__',\n",
       " '__subclasshook__',\n",
       " '__weakref__',\n",
       " 'windows']"
      ]
     },
     "execution_count": 4,
     "metadata": {},
     "output_type": "execute_result"
    }
   ],
   "source": [
    "\n",
    "dir(audi)"
   ]
  },
  {
   "cell_type": "markdown",
   "metadata": {},
   "source": [
    "The Upper Method is not the Optimal method of defining and initialising classes and objects :"
   ]
  },
  {
   "cell_type": "code",
   "execution_count": 10,
   "metadata": {},
   "outputs": [
    {
     "name": "stdout",
     "output_type": "stream",
     "text": [
      "Noddy 4\n",
      "Lucy 2\n"
     ]
    }
   ],
   "source": [
    "## Instance Variables and methods:\n",
    "\n",
    "class Dog:\n",
    "    ##Constructor\n",
    "    def __init__(self,name,age):\n",
    "        self.name=name\n",
    "        self.age=age\n",
    "\n",
    "# Create Objects\n",
    "dog1=Dog(\"Noddy\",4)\n",
    "dog2=Dog(\"Lucy\",2)\n",
    "print(dog1.name,dog1.age)\n",
    "print(dog2.name,dog2.age)"
   ]
  },
  {
   "cell_type": "code",
   "execution_count": 3,
   "metadata": {},
   "outputs": [
    {
     "name": "stdout",
     "output_type": "stream",
     "text": [
      "Buddy says Woof\n",
      "Lucy says Woof\n"
     ]
    }
   ],
   "source": [
    "## Define a Class with Instance methods\n",
    "\n",
    "class Dog:\n",
    "\n",
    "    def __init__(self,name,age):\n",
    "        self.name=name\n",
    "        self.age=age\n",
    "\n",
    "    def bark(self):\n",
    "        print(f\"{self.name} says Woof\")\n",
    "\n",
    "dog1=Dog(\"Buddy\",3)\n",
    "dog1.bark()\n",
    "dog2=Dog('Lucy',2)\n",
    "dog2.bark()\n"
   ]
  },
  {
   "cell_type": "code",
   "execution_count": 8,
   "metadata": {},
   "outputs": [
    {
     "name": "stdout",
     "output_type": "stream",
     "text": [
      "5000\n",
      "5000 Amount is deposited. New balance deposited is 10000\n",
      "2000 Amount is withdrawn. 8000 balance is left.\n",
      "8000\n"
     ]
    }
   ],
   "source": [
    " #Modelling a Bank Account\n",
    "\n",
    "##Define a class for bank account:\n",
    "\n",
    "class Bank:\n",
    "    def __init__(self,owner,balance): #Constructor\n",
    "        self.owner=owner      ## Instance variables\n",
    "        self.balance=balance    ## Instance variables\n",
    "\n",
    "        ## Self keyword is very much important to use instance variables inside this class\n",
    "        ## outside this class we cannot use Self keyword.\n",
    "\n",
    "        #Instance Methods\n",
    "    def deposit(self,amount):\n",
    "        self.balance+=amount  ## instance method self.balance\n",
    "        print(f\"{amount} Amount is deposited. New balance deposited is {self.balance}\")\n",
    "\n",
    "    def withdraw(self,amount):\n",
    "        if amount>self.balance:\n",
    "            print(\"Insufficient Funds\")\n",
    "        else:\n",
    "            self.balance-=amount\n",
    "            print(f\"{amount} Amount is withdrawn. {self.balance} balance is left.\")\n",
    "\n",
    "    def get_balance(self):\n",
    "        return self.balance\n",
    "\n",
    "    ## create an Account object\n",
    "account = Bank(\"Ashmeet\",5000)\n",
    "print(account.balance)\n",
    "\n",
    "## calling instance methods\n",
    "account.deposit(5000)\n",
    "\n",
    "account.withdraw(2000)\n",
    "\n",
    "print(account.get_balance())"
   ]
  },
  {
   "cell_type": "code",
   "execution_count": null,
   "metadata": {},
   "outputs": [],
   "source": []
  }
 ],
 "metadata": {
  "kernelspec": {
   "display_name": "base",
   "language": "python",
   "name": "python3"
  },
  "language_info": {
   "codemirror_mode": {
    "name": "ipython",
    "version": 3
   },
   "file_extension": ".py",
   "mimetype": "text/x-python",
   "name": "python",
   "nbconvert_exporter": "python",
   "pygments_lexer": "ipython3",
   "version": "3.12.4"
  }
 },
 "nbformat": 4,
 "nbformat_minor": 2
}
