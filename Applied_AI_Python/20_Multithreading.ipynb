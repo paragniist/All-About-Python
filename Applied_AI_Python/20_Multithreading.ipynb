{
 "cells": [
  {
   "cell_type": "code",
   "execution_count": 10,
   "metadata": {},
   "outputs": [
    {
     "name": "stdout",
     "output_type": "stream",
     "text": [
      "Number:0 \n",
      "Letter :a\n",
      "Number:1 \n",
      "Letter :b\n",
      "Number:2 \n",
      "Letter :c\n",
      "Number:3 \n",
      "Letter :d\n",
      "Number:4 \n",
      "Letter :e\n",
      "Number:5 \n",
      "12.027771234512329\n"
     ]
    }
   ],
   "source": [
    "## Multithreading\n",
    "##I/O Bound tasks: Tasks that spend more time waiting for I/O operations\n",
    "## Concurrent execution: When you want to improve the throughout of your application\n",
    "\n",
    "import threading\n",
    "import time\n",
    "\n",
    "def print_numbers():\n",
    "    for i in range(6):\n",
    "        time.sleep(2)\n",
    "        print(f\"Number:{i} \")\n",
    "\n",
    "def print_letters():\n",
    "    for letter in \"abcde\":\n",
    "        time.sleep(2.1)\n",
    "        print(f\"Letter :{letter}\")\n",
    "\n",
    "##Create 2 threads:\n",
    "\n",
    "t1=threading.Thread(target=print_numbers)\n",
    "t2=threading.Thread(target=print_letters)\n",
    "\n",
    "t=time.time()\n",
    "\n",
    "## Start the threads\n",
    "t1.start()\n",
    "t2.start()\n",
    "\n",
    "## Wait for threads to complete:\n",
    "t1.join()\n",
    "t2.join()\n",
    "\n",
    "finished_time=time.time()-t\n",
    "print(finished_time)"
   ]
  },
  {
   "cell_type": "code",
   "execution_count": null,
   "metadata": {},
   "outputs": [],
   "source": []
  }
 ],
 "metadata": {
  "kernelspec": {
   "display_name": "base",
   "language": "python",
   "name": "python3"
  },
  "language_info": {
   "codemirror_mode": {
    "name": "ipython",
    "version": 3
   },
   "file_extension": ".py",
   "mimetype": "text/x-python",
   "name": "python",
   "nbconvert_exporter": "python",
   "pygments_lexer": "ipython3",
   "version": "3.12.4"
  }
 },
 "nbformat": 4,
 "nbformat_minor": 2
}
