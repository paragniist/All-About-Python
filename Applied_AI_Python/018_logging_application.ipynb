{
 "cells": [
  {
   "cell_type": "code",
   "execution_count": 8,
   "metadata": {},
   "outputs": [
    {
     "name": "stderr",
     "output_type": "stream",
     "text": [
      "2025-07-24 20:52:40 - ArithmeticApp - DEBUG - Adding 10 + 15 = 25\n",
      "2025-07-24 20:52:40 - ArithmeticApp - DEBUG - Subtracting 15 - 10 = 5\n",
      "2025-07-24 20:52:40 - ArithmeticApp - DEBUG - Multiplying 10 x 20 = 200\n",
      "2025-07-24 20:52:40 - ArithmeticApp - DEBUG - Dividing 20 / 10 = 2.0\n",
      "2025-07-24 20:52:40 - ArithmeticApp - ERROR - Division by zero error\n"
     ]
    }
   ],
   "source": [
    "import logging\n",
    "\n",
    "# Logging setting\n",
    "logging.basicConfig(\n",
    "    level=logging.DEBUG,\n",
    "    format='%(asctime)s - %(name)s - %(levelname)s - %(message)s',\n",
    "    datefmt='%Y-%m-%d %H:%M:%S',\n",
    "    handlers=[\n",
    "        logging.FileHandler(\"app1.log\"),\n",
    "        logging.StreamHandler()\n",
    "    ]\n",
    ")\n",
    "\n",
    "logger = logging.getLogger(\"ArithmeticApp\")\n",
    "\n",
    "def add(a, b):\n",
    "    result = a + b\n",
    "    logger.debug(f\"Adding {a} + {b} = {result}\")\n",
    "    return result\n",
    "\n",
    "def sub(a, b):\n",
    "    result = a - b\n",
    "    logger.debug(f\"Subtracting {a} - {b} = {result}\")\n",
    "    return result\n",
    "\n",
    "def multiply(a, b):\n",
    "    result = a * b\n",
    "    logger.debug(f\"Multiplying {a} x {b} = {result}\")\n",
    "    return result\n",
    "\n",
    "def division(a, b):\n",
    "    try:\n",
    "        result = a / b\n",
    "        logger.debug(f\"Dividing {a} / {b} = {result}\")\n",
    "        return result\n",
    "    except ZeroDivisionError:\n",
    "        logger.error(\"Division by zero error\")\n",
    "        return None\n",
    "\n",
    "# Example usage\n",
    "add(10, 15)\n",
    "sub(15, 10)\n",
    "multiply(10, 20)\n",
    "division(20, 10)\n",
    "division(20, 0)  # Testing ZeroDivisionError\n"
   ]
  },
  {
   "cell_type": "code",
   "execution_count": null,
   "metadata": {},
   "outputs": [],
   "source": []
  }
 ],
 "metadata": {
  "kernelspec": {
   "display_name": "base",
   "language": "python",
   "name": "python3"
  },
  "language_info": {
   "codemirror_mode": {
    "name": "ipython",
    "version": 3
   },
   "file_extension": ".py",
   "mimetype": "text/x-python",
   "name": "python",
   "nbconvert_exporter": "python",
   "pygments_lexer": "ipython3",
   "version": "3.12.4"
  }
 },
 "nbformat": 4,
 "nbformat_minor": 2
}
